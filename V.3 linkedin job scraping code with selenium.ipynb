{
 "cells": [
  {
   "cell_type": "code",
   "execution_count": 53,
   "id": "2ee2a6a4",
   "metadata": {},
   "outputs": [],
   "source": [
    "# Import Packages\n",
    "from selenium import webdriver\n",
    "import time\n",
    "import pandas as pd\n",
    "import os\n",
    "\n",
    "from selenium.webdriver.support.select import Select\n",
    "from selenium.webdriver.support.ui import WebDriverWait\n",
    "from selenium.webdriver.common.by import By\n",
    "from selenium.webdriver.support import expected_conditions as EC"
   ]
  },
  {
   "cell_type": "code",
   "execution_count": 54,
   "id": "a7cf0ab4",
   "metadata": {},
   "outputs": [],
   "source": [
    "url1 = 'https://www.linkedin.com/jobs/search/?currentJobId=3745271444&f_TPR=r86400&f_WT=2&geoId=103644278&keywords=python%20developer&location=United%20States&origin=JOB_SEARCH_PAGE_JOB_FILTER&refresh=true'"
   ]
  },
  {
   "cell_type": "code",
   "execution_count": 55,
   "id": "c15cafc3",
   "metadata": {},
   "outputs": [],
   "source": [
    "driver = webdriver.Chrome()\n",
    "driver.get(url1)\n",
    "driver.implicitly_wait(10)"
   ]
  },
  {
   "cell_type": "code",
   "execution_count": 56,
   "id": "2543396f",
   "metadata": {},
   "outputs": [
    {
     "name": "stdout",
     "output_type": "stream",
     "text": [
      "168\n"
     ]
    }
   ],
   "source": [
    "n = driver.find_elements(By.CLASS_NAME,'results-context-header__job-count')[0].text\n",
    "n\n",
    "\n",
    "try :\n",
    "    no_of_jobs = int(n.replace(',', '').replace('+', ''))\n",
    "except :\n",
    "    no_of_jobs = int(n)\n",
    "print(no_of_jobs)"
   ]
  },
  {
   "cell_type": "code",
   "execution_count": 57,
   "id": "96122541",
   "metadata": {},
   "outputs": [],
   "source": [
    "per_page_jobs = 20 # assuming that no of job listed in a single page is 20\n",
    "no_of_scrolls = int(no_of_jobs / per_page_jobs) \n",
    "\n",
    "i=2\n",
    "while i <= no_of_scrolls: \n",
    "    driver.execute_script(\"window.scrollTo(0, document.body.scrollHeight);\")\n",
    "    i+=1\n",
    "    \n",
    "    try :\n",
    "        x = driver.find_element(By.XPATH,\"//button[@aria-label='See more jobs']\")\n",
    "        driver.execute_script(\"arguments[0].click();\",x)\n",
    "        time.sleep(3)\n",
    "    except :\n",
    "        pass\n",
    "        time.sleep(4)\n",
    "        "
   ]
  },
  {
   "cell_type": "code",
   "execution_count": 58,
   "id": "e5d5d21e",
   "metadata": {},
   "outputs": [],
   "source": [
    "compnay_name = []\n",
    "for j in range(no_of_jobs) :\n",
    "    try :\n",
    "        company = driver.find_elements(By.CLASS_NAME,'base-search-card__subtitle')[j].text\n",
    "        compnay_name.append(company)\n",
    "    except IndexError :\n",
    "        print(\"done\")\n",
    "        "
   ]
  },
  {
   "cell_type": "code",
   "execution_count": 59,
   "id": "e47234b9",
   "metadata": {},
   "outputs": [],
   "source": [
    "job_title = []\n",
    "for j in range(no_of_jobs) :\n",
    "    try :\n",
    "        title = driver.find_elements(By.CLASS_NAME,'base-search-card__title')[j].text\n",
    "        job_title.append(title)\n",
    "    except IndexError :\n",
    "        print(\"done\")"
   ]
  },
  {
   "cell_type": "code",
   "execution_count": 60,
   "id": "94c6a5c3-770d-48e0-8b26-9c068ca51866",
   "metadata": {},
   "outputs": [],
   "source": [
    "job_link = []\n",
    "link = driver.find_elements(By.CLASS_NAME,'base-card__full-link')\n",
    "for m in (link) :\n",
    "        job_link.append(m.get_attribute('href'))\n",
    "link_final = pd.DataFrame(job_link,columns= ['Job Link']  )"
   ]
  },
  {
   "cell_type": "code",
   "execution_count": 61,
   "id": "9bb4b631",
   "metadata": {},
   "outputs": [],
   "source": [
    "company_final = pd.DataFrame(compnay_name,columns= ['Company Name']  )"
   ]
  },
  {
   "cell_type": "code",
   "execution_count": 62,
   "id": "bc8084a1",
   "metadata": {},
   "outputs": [],
   "source": [
    "title_final = pd.DataFrame(job_title,columns= ['Job Title']  )"
   ]
  },
  {
   "cell_type": "code",
   "execution_count": 64,
   "id": "fd90cb92",
   "metadata": {},
   "outputs": [],
   "source": [
    "final = company_final.join(title_final)"
   ]
  },
  {
   "cell_type": "code",
   "execution_count": 65,
   "id": "c207d175",
   "metadata": {},
   "outputs": [],
   "source": [
    "final_com = final.join(link_final)"
   ]
  },
  {
   "cell_type": "code",
   "execution_count": 66,
   "id": "7fde3223-9c9d-43fc-9f6c-8a40c4eea5d1",
   "metadata": {},
   "outputs": [
    {
     "data": {
      "text/html": [
       "<div>\n",
       "<style scoped>\n",
       "    .dataframe tbody tr th:only-of-type {\n",
       "        vertical-align: middle;\n",
       "    }\n",
       "\n",
       "    .dataframe tbody tr th {\n",
       "        vertical-align: top;\n",
       "    }\n",
       "\n",
       "    .dataframe thead th {\n",
       "        text-align: right;\n",
       "    }\n",
       "</style>\n",
       "<table border=\"1\" class=\"dataframe\">\n",
       "  <thead>\n",
       "    <tr style=\"text-align: right;\">\n",
       "      <th></th>\n",
       "      <th>Company Name</th>\n",
       "      <th>Job Title</th>\n",
       "      <th>Job Link</th>\n",
       "    </tr>\n",
       "  </thead>\n",
       "  <tbody>\n",
       "    <tr>\n",
       "      <th>0</th>\n",
       "      <td>SynergisticIT</td>\n",
       "      <td>Entry Level Python Programmer (Remote)</td>\n",
       "      <td>https://www.linkedin.com/jobs/view/entry-level...</td>\n",
       "    </tr>\n",
       "    <tr>\n",
       "      <th>1</th>\n",
       "      <td>Team Remotely Inc</td>\n",
       "      <td>���Junior Web Developer</td>\n",
       "      <td>https://www.linkedin.com/jobs/view/%EF%BF%BD%E...</td>\n",
       "    </tr>\n",
       "    <tr>\n",
       "      <th>2</th>\n",
       "      <td>Fitness Matrix Inc</td>\n",
       "      <td>���Junior Web Developer</td>\n",
       "      <td>https://www.linkedin.com/jobs/view/%EF%BF%BD%E...</td>\n",
       "    </tr>\n",
       "    <tr>\n",
       "      <th>3</th>\n",
       "      <td>HireMeFast LLC - Secure Your Next Job - Career...</td>\n",
       "      <td>Junior Full Stack Developer React/Python</td>\n",
       "      <td>https://www.linkedin.com/jobs/view/junior-full...</td>\n",
       "    </tr>\n",
       "    <tr>\n",
       "      <th>4</th>\n",
       "      <td>SynergisticIT</td>\n",
       "      <td>Entry Level Python Programmer/Data scientist/A...</td>\n",
       "      <td>https://www.linkedin.com/jobs/view/entry-level...</td>\n",
       "    </tr>\n",
       "    <tr>\n",
       "      <th>...</th>\n",
       "      <td>...</td>\n",
       "      <td>...</td>\n",
       "      <td>...</td>\n",
       "    </tr>\n",
       "    <tr>\n",
       "      <th>163</th>\n",
       "      <td>Aha!</td>\n",
       "      <td>Sr. Security Engineer (Ruby on Rails experienc...</td>\n",
       "      <td>https://www.linkedin.com/jobs/view/sr-security...</td>\n",
       "    </tr>\n",
       "    <tr>\n",
       "      <th>164</th>\n",
       "      <td>Aha!</td>\n",
       "      <td>Sr. Security Engineer (Ruby on Rails experienc...</td>\n",
       "      <td>https://www.linkedin.com/jobs/view/sr-security...</td>\n",
       "    </tr>\n",
       "    <tr>\n",
       "      <th>165</th>\n",
       "      <td>Aha!</td>\n",
       "      <td>Sr. Security Engineer (Ruby on Rails experienc...</td>\n",
       "      <td>https://www.linkedin.com/jobs/view/sr-security...</td>\n",
       "    </tr>\n",
       "    <tr>\n",
       "      <th>166</th>\n",
       "      <td>Aha!</td>\n",
       "      <td>Sr. Security Engineer (Ruby on Rails experienc...</td>\n",
       "      <td>https://www.linkedin.com/jobs/view/sr-security...</td>\n",
       "    </tr>\n",
       "    <tr>\n",
       "      <th>167</th>\n",
       "      <td>Aha!</td>\n",
       "      <td>Sr. Security Engineer (Ruby on Rails experienc...</td>\n",
       "      <td>https://www.linkedin.com/jobs/view/sr-security...</td>\n",
       "    </tr>\n",
       "  </tbody>\n",
       "</table>\n",
       "<p>168 rows × 3 columns</p>\n",
       "</div>"
      ],
      "text/plain": [
       "                                          Company Name  \\\n",
       "0                                        SynergisticIT   \n",
       "1                                    Team Remotely Inc   \n",
       "2                                   Fitness Matrix Inc   \n",
       "3    HireMeFast LLC - Secure Your Next Job - Career...   \n",
       "4                                        SynergisticIT   \n",
       "..                                                 ...   \n",
       "163                                               Aha!   \n",
       "164                                               Aha!   \n",
       "165                                               Aha!   \n",
       "166                                               Aha!   \n",
       "167                                               Aha!   \n",
       "\n",
       "                                             Job Title  \\\n",
       "0               Entry Level Python Programmer (Remote)   \n",
       "1                              ���Junior Web Developer   \n",
       "2                              ���Junior Web Developer   \n",
       "3             Junior Full Stack Developer React/Python   \n",
       "4    Entry Level Python Programmer/Data scientist/A...   \n",
       "..                                                 ...   \n",
       "163  Sr. Security Engineer (Ruby on Rails experienc...   \n",
       "164  Sr. Security Engineer (Ruby on Rails experienc...   \n",
       "165  Sr. Security Engineer (Ruby on Rails experienc...   \n",
       "166  Sr. Security Engineer (Ruby on Rails experienc...   \n",
       "167  Sr. Security Engineer (Ruby on Rails experienc...   \n",
       "\n",
       "                                              Job Link  \n",
       "0    https://www.linkedin.com/jobs/view/entry-level...  \n",
       "1    https://www.linkedin.com/jobs/view/%EF%BF%BD%E...  \n",
       "2    https://www.linkedin.com/jobs/view/%EF%BF%BD%E...  \n",
       "3    https://www.linkedin.com/jobs/view/junior-full...  \n",
       "4    https://www.linkedin.com/jobs/view/entry-level...  \n",
       "..                                                 ...  \n",
       "163  https://www.linkedin.com/jobs/view/sr-security...  \n",
       "164  https://www.linkedin.com/jobs/view/sr-security...  \n",
       "165  https://www.linkedin.com/jobs/view/sr-security...  \n",
       "166  https://www.linkedin.com/jobs/view/sr-security...  \n",
       "167  https://www.linkedin.com/jobs/view/sr-security...  \n",
       "\n",
       "[168 rows x 3 columns]"
      ]
     },
     "execution_count": 66,
     "metadata": {},
     "output_type": "execute_result"
    }
   ],
   "source": [
    "final_com"
   ]
  },
  {
   "cell_type": "code",
   "execution_count": 68,
   "id": "fba7f9af",
   "metadata": {},
   "outputs": [],
   "source": [
    "final_com.to_csv('1linkeding_job_details')"
   ]
  }
 ],
 "metadata": {
  "kernelspec": {
   "display_name": "Python 3 (ipykernel)",
   "language": "python",
   "name": "python3"
  },
  "language_info": {
   "codemirror_mode": {
    "name": "ipython",
    "version": 3
   },
   "file_extension": ".py",
   "mimetype": "text/x-python",
   "name": "python",
   "nbconvert_exporter": "python",
   "pygments_lexer": "ipython3",
   "version": "3.9.7"
  }
 },
 "nbformat": 4,
 "nbformat_minor": 5
}
