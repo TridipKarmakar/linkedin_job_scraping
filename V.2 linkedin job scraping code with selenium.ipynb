{
 "cells": [
  {
   "cell_type": "code",
   "execution_count": 135,
   "id": "2ee2a6a4",
   "metadata": {},
   "outputs": [],
   "source": [
    "# Import Packages\n",
    "from selenium import webdriver\n",
    "import time\n",
    "import pandas as pd\n",
    "import os\n",
    "\n",
    "from selenium.webdriver.support.select import Select\n",
    "from selenium.webdriver.support.ui import WebDriverWait\n",
    "from selenium.webdriver.common.by import By\n",
    "from selenium.webdriver.support import expected_conditions as EC"
   ]
  },
  {
   "cell_type": "code",
   "execution_count": 136,
   "id": "a7cf0ab4",
   "metadata": {},
   "outputs": [],
   "source": [
    "url1 = 'https://www.linkedin.com/jobs/search/?currentJobId=3745271444&f_TPR=r86400&f_WT=2&geoId=103644278&keywords=python%20developer&location=United%20States&origin=JOB_SEARCH_PAGE_JOB_FILTER&refresh=true'"
   ]
  },
  {
   "cell_type": "code",
   "execution_count": 137,
   "id": "c15cafc3",
   "metadata": {},
   "outputs": [],
   "source": [
    "driver = webdriver.Chrome()\n",
    "driver.get(url1)\n",
    "driver.implicitly_wait(10)"
   ]
  },
  {
   "cell_type": "code",
   "execution_count": 138,
   "id": "2543396f",
   "metadata": {},
   "outputs": [
    {
     "name": "stdout",
     "output_type": "stream",
     "text": [
      "75\n"
     ]
    }
   ],
   "source": [
    "n = driver.find_elements(By.CLASS_NAME,'results-context-header__job-count')[0].text\n",
    "n\n",
    "\n",
    "try :\n",
    "    no_of_jobs = int(n.replace(',', '').replace('+', ''))\n",
    "except :\n",
    "    no_of_jobs = int(n)\n",
    "print(no_of_jobs)"
   ]
  },
  {
   "cell_type": "code",
   "execution_count": 139,
   "id": "96122541",
   "metadata": {},
   "outputs": [],
   "source": [
    "per_page_jobs = 20 # assuming that no of job listed in a single page is 20\n",
    "no_of_scrolls = int(no_of_jobs / per_page_jobs) \n",
    "\n",
    "i=2\n",
    "while i <= no_of_scrolls: \n",
    "    driver.execute_script(\"window.scrollTo(0, document.body.scrollHeight);\")\n",
    "    i+=1\n",
    "    \n",
    "    try :\n",
    "        x = driver.find_element(By.XPATH,\"//button[@aria-label='See more jobs']\")\n",
    "        driver.execute_script(\"arguments[0].click();\",x)\n",
    "        time.sleep(3)\n",
    "    except :\n",
    "        pass\n",
    "        time.sleep(4)\n",
    "        "
   ]
  },
  {
   "cell_type": "code",
   "execution_count": 140,
   "id": "e5d5d21e",
   "metadata": {},
   "outputs": [
    {
     "name": "stdout",
     "output_type": "stream",
     "text": [
      "done\n",
      "done\n",
      "done\n",
      "done\n",
      "done\n",
      "done\n"
     ]
    }
   ],
   "source": [
    "compnay_name = []\n",
    "for j in range(no_of_jobs) :\n",
    "    try :\n",
    "        company = driver.find_elements(By.CLASS_NAME,'base-search-card__subtitle')[j].text\n",
    "        compnay_name.append(company)\n",
    "    except IndexError :\n",
    "        print(\"done\")\n",
    "        "
   ]
  },
  {
   "cell_type": "code",
   "execution_count": 141,
   "id": "e47234b9",
   "metadata": {},
   "outputs": [
    {
     "ename": "SyntaxError",
     "evalue": "EOL while scanning string literal (Temp/ipykernel_17744/3596383322.py, line 4)",
     "output_type": "error",
     "traceback": [
      "\u001b[1;36m  File \u001b[1;32m\"C:\\Users\\dipka\\AppData\\Local\\Temp/ipykernel_17744/3596383322.py\"\u001b[1;36m, line \u001b[1;32m4\u001b[0m\n\u001b[1;33m    title = driver.find_elements(By.CLASS_NAME,'base-search-card__title)[j].text\u001b[0m\n\u001b[1;37m                                                                                ^\u001b[0m\n\u001b[1;31mSyntaxError\u001b[0m\u001b[1;31m:\u001b[0m EOL while scanning string literal\n"
     ]
    }
   ],
   "source": [
    "job_title = []\n",
    "for j in range(no_of_jobs) :\n",
    "    try :\n",
    "        title = driver.find_elements(By.CLASS_NAME,'base-search-card__title)[j].text\n",
    "        job_title.append(title)\n",
    "    except IndexError :\n",
    "        print(\"done\")"
   ]
  },
  {
   "cell_type": "code",
   "execution_count": null,
   "id": "9bb4b631",
   "metadata": {},
   "outputs": [],
   "source": [
    "company_final = pd.DataFrame(compnay_name,columns= ['Company Name']  )"
   ]
  },
  {
   "cell_type": "code",
   "execution_count": null,
   "id": "bc8084a1",
   "metadata": {},
   "outputs": [],
   "source": [
    "title_final = pd.DataFrame(title_name,columns= ['Job Title']  )"
   ]
  },
  {
   "cell_type": "code",
   "execution_count": null,
   "id": "b6b52c18",
   "metadata": {},
   "outputs": [],
   "source": []
  }
 ],
 "metadata": {
  "kernelspec": {
   "display_name": "Python 3 (ipykernel)",
   "language": "python",
   "name": "python3"
  },
  "language_info": {
   "codemirror_mode": {
    "name": "ipython",
    "version": 3
   },
   "file_extension": ".py",
   "mimetype": "text/x-python",
   "name": "python",
   "nbconvert_exporter": "python",
   "pygments_lexer": "ipython3",
   "version": "3.9.7"
  }
 },
 "nbformat": 4,
 "nbformat_minor": 5
}
