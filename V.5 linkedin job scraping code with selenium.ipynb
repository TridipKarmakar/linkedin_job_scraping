{
 "cells": [
  {
   "cell_type": "code",
   "execution_count": 48,
   "id": "2ee2a6a4",
   "metadata": {},
   "outputs": [],
   "source": [
    "# Import Packages\n",
    "from selenium import webdriver\n",
    "import time\n",
    "import pandas as pd\n",
    "import os\n",
    "import json\n",
    "\n",
    "\n",
    "from selenium.webdriver.support.select import Select\n",
    "from selenium.webdriver.support.ui import WebDriverWait\n",
    "from selenium.webdriver.common.by import By\n",
    "from selenium.webdriver.support import expected_conditions as EC\n",
    "from selenium.common.exceptions import NoSuchElementException"
   ]
  },
  {
   "cell_type": "code",
   "execution_count": 49,
   "id": "a7cf0ab4",
   "metadata": {},
   "outputs": [],
   "source": [
    "url1 = 'https://www.linkedin.com/jobs/search/?currentJobId=3745271444&f_TPR=r86400&f_WT=2&geoId=103644278&keywords=python%20developer&location=United%20States&origin=JOB_SEARCH_PAGE_JOB_FILTER&refresh=true'"
   ]
  },
  {
   "cell_type": "code",
   "execution_count": 50,
   "id": "c15cafc3",
   "metadata": {},
   "outputs": [],
   "source": [
    "driver = webdriver.Chrome()\n",
    "driver.get(url1)\n",
    "driver.implicitly_wait(10)"
   ]
  },
  {
   "cell_type": "code",
   "execution_count": 51,
   "id": "2543396f",
   "metadata": {},
   "outputs": [
    {
     "name": "stdout",
     "output_type": "stream",
     "text": [
      "91\n"
     ]
    }
   ],
   "source": [
    "n = driver.find_elements(By.CLASS_NAME,'results-context-header__job-count')[0].text\n",
    "n\n",
    "\n",
    "try :\n",
    "    no_of_jobs = int(n.replace(',', '').replace('+', ''))\n",
    "except :\n",
    "    no_of_jobs = int(n)\n",
    "print(no_of_jobs)"
   ]
  },
  {
   "cell_type": "code",
   "execution_count": 52,
   "id": "96122541",
   "metadata": {},
   "outputs": [],
   "source": [
    "per_page_jobs = 20 # assuming that no of job listed in a single page is 20\n",
    "no_of_scrolls = int(no_of_jobs / per_page_jobs) \n",
    "\n",
    "i=2\n",
    "while i <= no_of_scrolls: \n",
    "    driver.execute_script(\"window.scrollTo(0, document.body.scrollHeight);\")\n",
    "    i+=1\n",
    "    \n",
    "    try :\n",
    "        x = driver.find_element(By.XPATH,\"//button[@aria-label='See more jobs']\")\n",
    "        driver.execute_script(\"arguments[0].click();\",x)\n",
    "        time.sleep(3)\n",
    "    except :\n",
    "        pass\n",
    "        time.sleep(4)\n",
    "        "
   ]
  },
  {
   "cell_type": "code",
   "execution_count": 53,
   "id": "e5d5d21e",
   "metadata": {},
   "outputs": [
    {
     "name": "stdout",
     "output_type": "stream",
     "text": [
      "done\n"
     ]
    }
   ],
   "source": [
    "compnay_name = []\n",
    "for j in range(no_of_jobs) :\n",
    "    try :\n",
    "        company = driver.find_elements(By.CLASS_NAME,'base-search-card__subtitle')[j].text\n",
    "        compnay_name.append(company)\n",
    "    except IndexError :\n",
    "        print(\"done\")\n",
    "        "
   ]
  },
  {
   "cell_type": "code",
   "execution_count": 54,
   "id": "e47234b9",
   "metadata": {},
   "outputs": [
    {
     "name": "stdout",
     "output_type": "stream",
     "text": [
      "done\n"
     ]
    }
   ],
   "source": [
    "job_title = []\n",
    "for j in range(no_of_jobs) :\n",
    "    try :\n",
    "        title = driver.find_elements(By.CLASS_NAME,'base-search-card__title')[j].text\n",
    "        job_title.append(title)\n",
    "    except IndexError :\n",
    "        print(\"done\")"
   ]
  },
  {
   "cell_type": "code",
   "execution_count": 55,
   "id": "94c6a5c3-770d-48e0-8b26-9c068ca51866",
   "metadata": {},
   "outputs": [],
   "source": [
    "job_link = []\n",
    "link = driver.find_elements(By.CLASS_NAME,'base-card__full-link')\n",
    "for m in (link) :\n",
    "        job_link.append(m.get_attribute('href'))\n",
    "link_final = pd.DataFrame(job_link,columns= ['Job Link']  )"
   ]
  },
  {
   "cell_type": "code",
   "execution_count": 56,
   "id": "9bb4b631",
   "metadata": {},
   "outputs": [],
   "source": [
    "company_final = pd.DataFrame(compnay_name,columns= ['Company Name']  )"
   ]
  },
  {
   "cell_type": "code",
   "execution_count": 57,
   "id": "bc8084a1",
   "metadata": {},
   "outputs": [],
   "source": [
    "title_final = pd.DataFrame(job_title,columns= ['Job Title']  )"
   ]
  },
  {
   "cell_type": "code",
   "execution_count": 58,
   "id": "fd90cb92",
   "metadata": {},
   "outputs": [],
   "source": [
    "final = company_final.join(title_final)"
   ]
  },
  {
   "cell_type": "code",
   "execution_count": 59,
   "id": "c207d175",
   "metadata": {},
   "outputs": [],
   "source": [
    "final_com = final.join(link_final)"
   ]
  },
  {
   "cell_type": "code",
   "execution_count": 60,
   "id": "7fde3223-9c9d-43fc-9f6c-8a40c4eea5d1",
   "metadata": {},
   "outputs": [
    {
     "data": {
      "text/html": [
       "<div>\n",
       "<style scoped>\n",
       "    .dataframe tbody tr th:only-of-type {\n",
       "        vertical-align: middle;\n",
       "    }\n",
       "\n",
       "    .dataframe tbody tr th {\n",
       "        vertical-align: top;\n",
       "    }\n",
       "\n",
       "    .dataframe thead th {\n",
       "        text-align: right;\n",
       "    }\n",
       "</style>\n",
       "<table border=\"1\" class=\"dataframe\">\n",
       "  <thead>\n",
       "    <tr style=\"text-align: right;\">\n",
       "      <th></th>\n",
       "      <th>Company Name</th>\n",
       "      <th>Job Title</th>\n",
       "      <th>Job Link</th>\n",
       "    </tr>\n",
       "  </thead>\n",
       "  <tbody>\n",
       "    <tr>\n",
       "      <th>0</th>\n",
       "      <td>HireMeFast LLC - Get More Interviews &amp; Job Off...</td>\n",
       "      <td>Python Developer (Entry Level)</td>\n",
       "      <td>https://www.linkedin.com/jobs/view/python-deve...</td>\n",
       "    </tr>\n",
       "    <tr>\n",
       "      <th>1</th>\n",
       "      <td>HireMeFast LLC - Get More Interviews &amp; Job Off...</td>\n",
       "      <td>Junior Python Developer</td>\n",
       "      <td>https://www.linkedin.com/jobs/view/junior-pyth...</td>\n",
       "    </tr>\n",
       "    <tr>\n",
       "      <th>2</th>\n",
       "      <td>Fitness Matrix Inc</td>\n",
       "      <td>Python Django Developer (Entry level)</td>\n",
       "      <td>https://www.linkedin.com/jobs/view/python-djan...</td>\n",
       "    </tr>\n",
       "    <tr>\n",
       "      <th>3</th>\n",
       "      <td>HireMeFast LLC - Get More Interviews &amp; Job Off...</td>\n",
       "      <td>Backend Developer (Entry Level)</td>\n",
       "      <td>https://www.linkedin.com/jobs/view/backend-dev...</td>\n",
       "    </tr>\n",
       "    <tr>\n",
       "      <th>4</th>\n",
       "      <td>Fitness Matrix Inc</td>\n",
       "      <td>Entry level Backend Engineer</td>\n",
       "      <td>https://www.linkedin.com/jobs/view/entry-level...</td>\n",
       "    </tr>\n",
       "    <tr>\n",
       "      <th>...</th>\n",
       "      <td>...</td>\n",
       "      <td>...</td>\n",
       "      <td>...</td>\n",
       "    </tr>\n",
       "    <tr>\n",
       "      <th>85</th>\n",
       "      <td>Aha!</td>\n",
       "      <td>Sr. Ruby on Rails Engineer</td>\n",
       "      <td>https://www.linkedin.com/jobs/view/sr-ruby-on-...</td>\n",
       "    </tr>\n",
       "    <tr>\n",
       "      <th>86</th>\n",
       "      <td>Aha!</td>\n",
       "      <td>Sr. Ruby on Rails Engineer</td>\n",
       "      <td>https://www.linkedin.com/jobs/view/sr-ruby-on-...</td>\n",
       "    </tr>\n",
       "    <tr>\n",
       "      <th>87</th>\n",
       "      <td>Aha!</td>\n",
       "      <td>Sr. Security Engineer (Ruby on Rails experienc...</td>\n",
       "      <td>https://www.linkedin.com/jobs/view/sr-security...</td>\n",
       "    </tr>\n",
       "    <tr>\n",
       "      <th>88</th>\n",
       "      <td>Aha!</td>\n",
       "      <td>Sr. Security Engineer (Ruby on Rails experienc...</td>\n",
       "      <td>https://www.linkedin.com/jobs/view/sr-security...</td>\n",
       "    </tr>\n",
       "    <tr>\n",
       "      <th>89</th>\n",
       "      <td>Aha!</td>\n",
       "      <td>Sr. Security Engineer (Ruby on Rails experienc...</td>\n",
       "      <td>https://www.linkedin.com/jobs/view/sr-security...</td>\n",
       "    </tr>\n",
       "  </tbody>\n",
       "</table>\n",
       "<p>90 rows × 3 columns</p>\n",
       "</div>"
      ],
      "text/plain": [
       "                                         Company Name  \\\n",
       "0   HireMeFast LLC - Get More Interviews & Job Off...   \n",
       "1   HireMeFast LLC - Get More Interviews & Job Off...   \n",
       "2                                  Fitness Matrix Inc   \n",
       "3   HireMeFast LLC - Get More Interviews & Job Off...   \n",
       "4                                  Fitness Matrix Inc   \n",
       "..                                                ...   \n",
       "85                                               Aha!   \n",
       "86                                               Aha!   \n",
       "87                                               Aha!   \n",
       "88                                               Aha!   \n",
       "89                                               Aha!   \n",
       "\n",
       "                                            Job Title  \\\n",
       "0                      Python Developer (Entry Level)   \n",
       "1                             Junior Python Developer   \n",
       "2               Python Django Developer (Entry level)   \n",
       "3                     Backend Developer (Entry Level)   \n",
       "4                        Entry level Backend Engineer   \n",
       "..                                                ...   \n",
       "85                         Sr. Ruby on Rails Engineer   \n",
       "86                         Sr. Ruby on Rails Engineer   \n",
       "87  Sr. Security Engineer (Ruby on Rails experienc...   \n",
       "88  Sr. Security Engineer (Ruby on Rails experienc...   \n",
       "89  Sr. Security Engineer (Ruby on Rails experienc...   \n",
       "\n",
       "                                             Job Link  \n",
       "0   https://www.linkedin.com/jobs/view/python-deve...  \n",
       "1   https://www.linkedin.com/jobs/view/junior-pyth...  \n",
       "2   https://www.linkedin.com/jobs/view/python-djan...  \n",
       "3   https://www.linkedin.com/jobs/view/backend-dev...  \n",
       "4   https://www.linkedin.com/jobs/view/entry-level...  \n",
       "..                                                ...  \n",
       "85  https://www.linkedin.com/jobs/view/sr-ruby-on-...  \n",
       "86  https://www.linkedin.com/jobs/view/sr-ruby-on-...  \n",
       "87  https://www.linkedin.com/jobs/view/sr-security...  \n",
       "88  https://www.linkedin.com/jobs/view/sr-security...  \n",
       "89  https://www.linkedin.com/jobs/view/sr-security...  \n",
       "\n",
       "[90 rows x 3 columns]"
      ]
     },
     "execution_count": 60,
     "metadata": {},
     "output_type": "execute_result"
    }
   ],
   "source": [
    "final_com"
   ]
  },
  {
   "cell_type": "code",
   "execution_count": 61,
   "id": "fba7f9af",
   "metadata": {},
   "outputs": [],
   "source": [
    "#final_com.to_csv('1linkeding_job_details')"
   ]
  },
  {
   "cell_type": "code",
   "execution_count": 62,
   "id": "728bd673-3005-418f-a416-7200d58a0666",
   "metadata": {},
   "outputs": [],
   "source": [
    "# Getting Job description"
   ]
  },
  {
   "cell_type": "code",
   "execution_count": null,
   "id": "234c23bf-8d9b-4705-8189-e48e6449eea8",
   "metadata": {},
   "outputs": [],
   "source": [
    "job_desc = []\n",
    "\n",
    "for l in job_link :\n",
    "    driver.get(l)\n",
    "    try :\n",
    "        job_Script = driver.find_element(By.CSS_SELECTOR,'.show-more-less-html__markup--clamp-after-5')\n",
    "        job_comment = job_Script.text\n",
    "        if job_comment.find(\"\\n\") :\n",
    "            final_comment = job_comment.replace(\"\\\\n\", \"\\n\")\n",
    "        else :\n",
    "            pass\n",
    "        job_desc.append(final_comment)    \n",
    "        time.sleep(4)\n",
    "    except NoSuchElementException:\n",
    "        job_desc.append(\"The specified element was not found on the page.\")\n",
    "        pass\n",
    "        time.sleep(4)\n",
    "\n",
    "print(job_desc)\n",
    "\n",
    "    \n",
    "    "
   ]
  },
  {
   "cell_type": "code",
   "execution_count": null,
   "id": "6436de25-39b9-4c93-a38d-ecc84bbe2e66",
   "metadata": {},
   "outputs": [],
   "source": [
    "job_desce = pd.DataFrame(job_desc,columns= ['description']  )\n",
    "final_com = final_com.join(job_desce)\n",
    "final_com\n"
   ]
  },
  {
   "cell_type": "code",
   "execution_count": 21,
   "id": "2d337617-f5c5-4049-a79a-b5cc8ef08dfb",
   "metadata": {},
   "outputs": [],
   "source": [
    "k = final_com['description'][0]"
   ]
  },
  {
   "cell_type": "code",
   "execution_count": 22,
   "id": "46389883",
   "metadata": {},
   "outputs": [
    {
     "name": "stdout",
     "output_type": "stream",
     "text": [
      "This is a remote position.\n",
      "\n",
      "Job Title: Python Developer (Entry Level)\n",
      "\n",
      "Location of client: Tampa, Florida\n",
      "\n",
      "Full-Time\n",
      "\n",
      "$66,000 - $76,000 per annum\n",
      "\n",
      "Minimum 1 year of project experience\n",
      "\n",
      "HireMeFast is a leading staffing and recruitment agency specializing in connecting businesses with top-tier talent across various industries. Our mission is to bridge the gap between exceptional candidates and organizations needing their skills, expertise, and unique qualities.\n",
      "\n",
      "Our team of experienced and dedicated recruitment specialists utilizes innovative sourcing strategies, and a vast network to identify and attract top talent. We conduct comprehensive procedures to ensure that only the most qualified candidates are presented to our clients.\n",
      "\n",
      "Job Description:\n",
      "\n",
      "In this role, you will work closely with senior developers and other cross-functional teams to develop and maintain high-quality Python applications. As an (Entry Level) Python Developer, you will have the opportunity to learn and grow your skills while contributing to exciting projects.\n",
      "\n",
      "Responsibilities:\n",
      "\n",
      "\n",
      "\n",
      "Requirements:\n",
      "\n",
      "\n",
      "\n",
      "Nice to have:\n",
      "\n",
      "\n",
      "\n",
      "Special Benefits you will love:\n",
      "\n",
      "\n",
      "\n",
      "\n",
      "\n",
      "At HireMeFast, we understand that finding the right individuals to join your team is crucial for success and growth of your organization. We are committed to streamlining the hiring process for our clients, ensuring they have access to a diverse pool of highly qualified candidates who are a perfect fit for their specific needs.\n"
     ]
    }
   ],
   "source": [
    "text = \"This is a text with\\nnewlines.\"\n",
    "text_with_newlines = k.replace(\"\\\\n\", \"\\n\")\n",
    "print(text_with_newlines)"
   ]
  },
  {
   "cell_type": "code",
   "execution_count": 23,
   "id": "0ad58ce8",
   "metadata": {},
   "outputs": [
    {
     "name": "stdout",
     "output_type": "stream",
     "text": [
      "This is a remote position.\n",
      "Job Title: Python Developer (Entry Level)\n",
      "Location of client: Tampa, Florida\n",
      "Full-Time\n",
      "$66,000 - $76,000 per annum\n",
      "Minimum 1 year of project experience\n",
      "HireMeFast is a leading staffing and recruitment agency specializing in connecting businesses with top-tier talent across various industries. Our mission is to bridge the gap between exceptional candidates and organizations needing their skills, expertise, and unique qualities.\n",
      "Our team of experienced and dedicated recruitment specialists utilizes innovative sourcing strategies, and a vast network to identify and attract top talent. We conduct comprehensive procedures to ensure that only the most qualified candidates are presented to our clients.\n",
      "Job Description:\n",
      "In this role, you will work closely with senior developers and other cross-functional teams to develop and maintain high-quality Python applications. As an (Entry Level) Python Developer, you will have the opportunity to learn and grow your skills while contributing to exciting projects.\n",
      "Responsibilities:\n",
      "Requirements:\n",
      "Nice to have:\n",
      "Special Benefits you will love:\n",
      "At HireMeFast, we understand that finding the right individuals to join your team is crucial for success and growth of your organization. We are committed to streamlining the hiring process for our clients, ensuring they have access to a diverse pool of highly qualified candidates who are a perfect fit for their specific needs.\n"
     ]
    }
   ],
   "source": [
    "job_posting = \"\"\"This is a remote position.\n",
    "\n",
    "Job Title: Python Developer (Entry Level)\n",
    "\n",
    "Location of client: Tampa, Florida\n",
    "\n",
    "Full-Time\n",
    "\n",
    "$66,000 - $76,000 per annum\n",
    "\n",
    "Minimum 1 year of project experience\n",
    "\n",
    "HireMeFast is a leading staffing and recruitment agency specializing in connecting businesses with top-tier talent across various industries. Our mission is to bridge the gap between exceptional candidates and organizations needing their skills, expertise, and unique qualities.\n",
    "\n",
    "Our team of experienced and dedicated recruitment specialists utilizes innovative sourcing strategies, and a vast network to identify and attract top talent. We conduct comprehensive procedures to ensure that only the most qualified candidates are presented to our clients.\n",
    "\n",
    "Job Description:\n",
    "\n",
    "In this role, you will work closely with senior developers and other cross-functional teams to develop and maintain high-quality Python applications. As an (Entry Level) Python Developer, you will have the opportunity to learn and grow your skills while contributing to exciting projects.\n",
    "\n",
    "Responsibilities:\n",
    "\n",
    "\n",
    "\n",
    "Requirements:\n",
    "\n",
    "\n",
    "\n",
    "Nice to have:\n",
    "\n",
    "\n",
    "\n",
    "Special Benefits you will love:\n",
    "\n",
    "\n",
    "\n",
    "At HireMeFast, we understand that finding the right individuals to join your team is crucial for success and growth of your organization. We are committed to streamlining the hiring process for our clients, ensuring they have access to a diverse pool of highly qualified candidates who are a perfect fit for their specific needs.\n",
    "\"\"\"\n",
    "\n",
    "lines = [line.strip() for line in job_posting.splitlines() if line.strip()]\n",
    "cleaned_text = '\\n'.join(lines)\n",
    "print(cleaned_text)\n"
   ]
  },
  {
   "cell_type": "code",
   "execution_count": 28,
   "id": "ee0d1d16",
   "metadata": {},
   "outputs": [
    {
     "name": "stdout",
     "output_type": "stream",
     "text": [
      "['This is a remote position.', '', 'Job Title: Python Developer (Entry Level)', '', 'Location of client: Tampa, Florida', '', 'Full-Time', '', '$66,000 - $76,000 per annum', '', 'Minimum 1 year of project experience', '', 'HireMeFast is a leading staffing and recruitment agency specializing in connecting businesses with top-tier talent across various industries. Our mission is to bridge the gap between exceptional candidates and organizations needing their skills, expertise, and unique qualities.', '', 'Our team of experienced and dedicated recruitment specialists utilizes innovative sourcing strategies, and a vast network to identify and attract top talent. We conduct comprehensive procedures to ensure that only the most qualified candidates are presented to our clients.', '', 'Job Description:', '', 'In this role, you will work closely with senior developers and other cross-functional teams to develop and maintain high-quality Python applications. As an (Entry Level) Python Developer, you will have the opportunity to learn and grow your skills while contributing to exciting projects.', '', 'Responsibilities:', '', '', '', 'Requirements:', '', '', '', 'Nice to have:', '', '', '', 'Special Benefits you will love:', '', '', '', 'At HireMeFast, we understand that finding the right individuals to join your team is crucial for success and growth of your organization. We are committed to streamlining the hiring process for our clients, ensuring they have access to a diverse pool of highly qualified candidates who are a perfect fit for their specific needs.']\n"
     ]
    }
   ],
   "source": [
    "l = []\n",
    "for i in job_posting.splitlines() : \n",
    "    l.append(i)\n",
    "print(l)"
   ]
  },
  {
   "cell_type": "code",
   "execution_count": 39,
   "id": "db0df3cb",
   "metadata": {},
   "outputs": [
    {
     "name": "stdout",
     "output_type": "stream",
     "text": [
      "Job Title: Python Developer (Entry Level)\n",
      "1\n"
     ]
    }
   ],
   "source": [
    "if l[2].strip() :\n",
    "    print(l[2])\n",
    "    print(1)\n",
    "else:\n",
    "    print(0)\n"
   ]
  },
  {
   "cell_type": "code",
   "execution_count": 42,
   "id": "62f94817",
   "metadata": {},
   "outputs": [],
   "source": [
    "final_job_dec = []\n",
    "for i in job_desc :\n",
    "    job_desc = i.replace(\"\\\\n\", \"\\n\")\n",
    "    final_job_dec.append(i)"
   ]
  },
  {
   "cell_type": "code",
   "execution_count": 43,
   "id": "59f5a509",
   "metadata": {},
   "outputs": [
    {
     "data": {
      "text/plain": [
       "['.']"
      ]
     },
     "execution_count": 43,
     "metadata": {},
     "output_type": "execute_result"
    }
   ],
   "source": [
    "final_job_dec"
   ]
  },
  {
   "cell_type": "code",
   "execution_count": null,
   "id": "91143887",
   "metadata": {},
   "outputs": [],
   "source": []
  }
 ],
 "metadata": {
  "kernelspec": {
   "display_name": "Python 3 (ipykernel)",
   "language": "python",
   "name": "python3"
  },
  "language_info": {
   "codemirror_mode": {
    "name": "ipython",
    "version": 3
   },
   "file_extension": ".py",
   "mimetype": "text/x-python",
   "name": "python",
   "nbconvert_exporter": "python",
   "pygments_lexer": "ipython3",
   "version": "3.9.7"
  }
 },
 "nbformat": 4,
 "nbformat_minor": 5
}
